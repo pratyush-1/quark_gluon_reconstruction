{
 "cells": [
  {
   "cell_type": "code",
   "execution_count": 1,
   "metadata": {},
   "outputs": [
    {
     "name": "stderr",
     "output_type": "stream",
     "text": [
      "/tmp/ipykernel_63706/1336894694.py:8: TqdmWarning: IProgress not found. Please update jupyter and ipywidgets. See https://ipywidgets.readthedocs.io/en/stable/user_install.html\n",
      "  from tqdm.autonotebook import  tqdm\n"
     ]
    }
   ],
   "source": [
    "import h5py\n",
    "import torch\n",
    "import torch.nn as nn\n",
    "import numpy as np\n",
    "import matplotlib.pyplot as plt\n",
    "import torchvision\n",
    "import cv2\n",
    "from tqdm.autonotebook import  tqdm\n",
    "from einops import rearrange"
   ]
  },
  {
   "cell_type": "code",
   "execution_count": 2,
   "metadata": {},
   "outputs": [],
   "source": [
    "class Dataset(torch.utils.data.Dataset):\n",
    "    def __init__(self,root_path,num_samples,transform=None):\n",
    "        self.root_path = root_path\n",
    "        self.transform = transform\n",
    "        self.num_samples = num_samples\n",
    "        self.f = h5py.File(self.root_path,'r')\n",
    "        self.data_length = len(self.f['y'][:num_samples])\n",
    "\n",
    "        self.X_jets = self.f['X_jets'][:num_samples]\n",
    "        self.y = self.f['y'][:num_samples]\n",
    "\n",
    "        if self.transform:\n",
    "            self.X_jets = self.transform(torch.as_tensor(np.array(self.X_jets)).permute(0,3,2,1))\n",
    "\n",
    "        self.X_jets = (self.X_jets - self.X_jets.min())/(self.X_jets.max()-self.X_jets.min())\n",
    "    def __getitem__(self,idx):\n",
    "        X_jets = self.X_jets[idx]\n",
    "        # mass = f['m0'][:1000][idx]\n",
    "        # momentum = f['pt'][:1000][idx]\n",
    "        y = self.y[idx]\n",
    "\n",
    "        return torch.as_tensor(np.array(X_jets)),torch.as_tensor(np.array(y))\n",
    "\n",
    "    def __len__(self):\n",
    "        return self.data_length"
   ]
  },
  {
   "cell_type": "code",
   "execution_count": 3,
   "metadata": {},
   "outputs": [
    {
     "name": "stderr",
     "output_type": "stream",
     "text": [
      "/home/pratyush/miniconda3/envs/clip/lib/python3.9/site-packages/torchvision/transforms/functional.py:1603: UserWarning: The default value of the antialias parameter of all the resizing transforms (Resize(), RandomResizedCrop(), etc.) will change from None to True in v0.17, in order to be consistent across the PIL and Tensor backends. To suppress this warning, directly pass antialias=True (recommended, future default), antialias=None (current default, which means False for Tensors and True for PIL), or antialias=False (only works on Tensors - PIL will still use antialiasing). This also applies if you are using the inference transforms from the models weights: update the call to weights.transforms(antialias=True).\n",
      "  warnings.warn(\n"
     ]
    }
   ],
   "source": [
    "path= '/home/pratyush/Desktop/diffusion/quark-gluon_data-set_n139306.hdf5'\n",
    "transform = torchvision.transforms.Compose([torchvision.transforms.Resize((128,128))])\n",
    "data = Dataset(path,num_samples=8000,transform=transform)\n",
    "dataloader = torch.utils.data.DataLoader(data,batch_size=64,num_workers=1,shuffle=True)"
   ]
  },
  {
   "cell_type": "code",
   "execution_count": 4,
   "metadata": {},
   "outputs": [],
   "source": [
    "x_jets,y = next(iter(dataloader))"
   ]
  },
  {
   "cell_type": "code",
   "execution_count": 5,
   "metadata": {},
   "outputs": [
    {
     "name": "stdout",
     "output_type": "stream",
     "text": [
      "tensor(0.)\n",
      "tensor(0.1020)\n",
      "tensor(1.4935e-05)\n"
     ]
    }
   ],
   "source": [
    "# for batch_size = data_length\n",
    "print(torch.min(x_jets))\n",
    "print(torch.max(x_jets))\n",
    "print(torch.mean(x_jets))"
   ]
  },
  {
   "cell_type": "code",
   "execution_count": 6,
   "metadata": {},
   "outputs": [
    {
     "name": "stdout",
     "output_type": "stream",
     "text": [
      "torch.Size([64, 3, 128, 128])\n"
     ]
    }
   ],
   "source": [
    "print(x_jets.shape)"
   ]
  },
  {
   "cell_type": "code",
   "execution_count": 7,
   "metadata": {},
   "outputs": [
    {
     "name": "stdout",
     "output_type": "stream",
     "text": [
      "tensor(1.)\n"
     ]
    },
    {
     "data": {
      "image/png": "[encoded data removed]",
      "text/plain": [
       "<Figure size 2000x2000 with 3 Axes>"
      ]
     },
     "metadata": {},
     "output_type": "display_data"
    }
   ],
   "source": [
    "i = 15\n",
    "print(y[i])\n",
    "x_jets_np = x_jets.numpy()\n",
    "fig,axs = plt.subplots(1,3,figsize = (20,20))\n",
    "im1 = axs[0].imshow(x_jets_np[i,0,:,:])\n",
    "axs[0].set_title('ECAL')\n",
    "axs[0].axis('off')\n",
    "im2 = axs[1].imshow(x_jets_np[i,1,:,:])\n",
    "axs[1].set_title('HCAL')\n",
    "axs[1].axis('off')\n",
    "im3 = axs[2].imshow(x_jets_np[i,2,:,:])\n",
    "axs[2].set_title('Tracks')\n",
    "axs[2].axis('off')\n",
    "# fig.colorbar(im1, ax=axs[0], shrink=0.25)\n",
    "# fig.colorbar(im2, ax=axs[1], shrink=0.25)\n",
    "# fig.colorbar(im3, ax=axs[2], shrink=0.25)\n",
    "\n",
    "plt.show()"
   ]
  },
  {
   "cell_type": "code",
   "execution_count": 7,
   "metadata": {},
   "outputs": [],
   "source": [
    "def vae_loss (encoder_inputs, outputs,z_mean,z_log_var):\n",
    "    reconstruction_loss = nn.BCELoss()(encoder_inputs,outputs)\n",
    "    # reconstruction_loss *= 128*128*3\n",
    "    \n",
    "    # kl_loss = 1+z_log_var - torch.square(z_mean)-torch.exp(z_log_var)\n",
    "    # kl_loss = torch.mean(kl_loss,dim=1)\n",
    "    # kl_loss *= -0.5\n",
    "    # kl_loss = 1 + z_log_var - torch.square(z_mean) - torch.exp(z_log_var)\n",
    "    # kl_loss = torch.sum(kl_loss, dim=1)  # Sum over dimensions\n",
    "    # kl_loss = torch.mean(kl_loss) * -0.5\n",
    "    # kl_loss = kl_loss.mean() \n",
    "\n",
    "    return reconstruction_loss\n",
    "\n",
    "def sampling(args):\n",
    "    z_mean,z_log_var = args\n",
    "    batch = z_mean[0]\n",
    "    dim= z_mean[1]\n",
    "    eps = torch.randn(size =(batch,dim) )\n",
    "    return z_mean + torch.exp(0.5*z_log_var)*eps\n",
    "    "
   ]
  },
  {
   "cell_type": "code",
   "execution_count": 52,
   "metadata": {},
   "outputs": [],
   "source": [
    "class AutoEncoder(nn.Module):\n",
    "    def __init__(self,input_channels :int =3, base_channel_size: int = 32, latent_dim: int = 1024, \n",
    "                 act_fn:object = nn.GELU):\n",
    "\n",
    "\n",
    "                super().__init__()\n",
    "                c_hid = base_channel_size\n",
    "\n",
    "                self.encoder_net = nn.Sequential(nn.Conv2d(input_channels,c_hid,kernel_size=3,padding=1,stride=2),\n",
    "                act_fn(), #64*64\n",
    "                nn.Conv2d(c_hid,c_hid,kernel_size=3,padding=1), \n",
    "                act_fn(),\n",
    "                nn.Conv2d(c_hid,2*c_hid,kernel_size=3,padding=1,stride=2) , #32*32\n",
    "                act_fn(),\n",
    "                # nn.Conv2d(2*c_hid,2*c_hid,kernel_size=3,padding=1),\n",
    "                # act_fn(),\n",
    "                # nn.Conv2d(2*c_hid,2*c_hid,kernel_size=3,padding=1,stride=2),#16*16\n",
    "                # act_fn(),\n",
    "                nn.Flatten(),\n",
    "                nn.Linear(2*32*32*c_hid,latent_dim)) \n",
    "\n",
    "                self.linear = nn.Sequential(nn.Linear(latent_dim,2*32*32*c_hid),\n",
    "                act_fn())\n",
    "\n",
    "                self.decoder_net = nn.Sequential(nn.ConvTranspose2d(2*c_hid,2*c_hid,kernel_size=3,output_padding=1,padding=1,stride=2),\n",
    "                act_fn(),\n",
    "                nn.Conv2d(2*c_hid,c_hid,kernel_size=3,padding=1),\n",
    "                act_fn(),\n",
    "                nn.ConvTranspose2d(c_hid,input_channels,kernel_size=3,output_padding=1,padding=1,stride=2),\n",
    "                act_fn(),\n",
    "                # nn.Conv2d(c_hid,c_hid,kernel_size=3,padding=1),\n",
    "                # act_fn(),\n",
    "                # nn.ConvTranspose2d(c_hid,input_channels,kernel_size=3,output_padding=1,padding=1,stride=2),\n",
    "               )\n",
    "     \n",
    "    def forward(self,x):\n",
    "        x = self.encoder_net(x)\n",
    "        x = self.linear(x)\n",
    "        x = x.reshape(x.shape[0],-1,32,32)\n",
    "        x = self.decoder_net(x)\n",
    "\n",
    "        return x"
   ]
  },
  {
   "cell_type": "code",
   "execution_count": 31,
   "metadata": {},
   "outputs": [
    {
     "name": "stdout",
     "output_type": "stream",
     "text": [
      "Encoder(\n",
      "  (conv1): Conv2d(3, 32, kernel_size=(3, 3), stride=(2, 2), padding=(1, 1))\n",
      "  (conv2): Conv2d(32, 64, kernel_size=(3, 3), stride=(2, 2), padding=(1, 1))\n",
      "  (flatten): Flatten(start_dim=1, end_dim=-1)\n",
      "  (fc1): Linear(in_features=65536, out_features=1024, bias=True)\n",
      "  (fc_z_mean): Linear(in_features=1024, out_features=1024, bias=True)\n",
      "  (fc_z_log_var): Linear(in_features=1024, out_features=1024, bias=True)\n",
      ")\n",
      "Decoder(\n",
      "  (fc1): Linear(in_features=1024, out_features=65536, bias=True)\n",
      "  (deconv1): ConvTranspose2d(64, 32, kernel_size=(3, 3), stride=(2, 2), padding=(1, 1), output_padding=(1, 1))\n",
      "  (deconv3): ConvTranspose2d(32, 3, kernel_size=(3, 3), stride=(2, 2), padding=(1, 1), output_padding=(1, 1))\n",
      ")\n",
      "VAE(\n",
      "  (encoder): Encoder(\n",
      "    (conv1): Conv2d(3, 32, kernel_size=(3, 3), stride=(2, 2), padding=(1, 1))\n",
      "    (conv2): Conv2d(32, 64, kernel_size=(3, 3), stride=(2, 2), padding=(1, 1))\n",
      "    (flatten): Flatten(start_dim=1, end_dim=-1)\n",
      "    (fc1): Linear(in_features=65536, out_features=1024, bias=True)\n",
      "    (fc_z_mean): Linear(in_features=1024, out_features=1024, bias=True)\n",
      "    (fc_z_log_var): Linear(in_features=1024, out_features=1024, bias=True)\n",
      "  )\n",
      "  (decoder): Decoder(\n",
      "    (fc1): Linear(in_features=1024, out_features=65536, bias=True)\n",
      "    (deconv1): ConvTranspose2d(64, 32, kernel_size=(3, 3), stride=(2, 2), padding=(1, 1), output_padding=(1, 1))\n",
      "    (deconv3): ConvTranspose2d(32, 3, kernel_size=(3, 3), stride=(2, 2), padding=(1, 1), output_padding=(1, 1))\n",
      "  )\n",
      ")\n",
      "torch.Size([1, 3, 128, 128])\n"
     ]
    }
   ],
   "source": [
    "import torch\n",
    "import torch.nn as nn\n",
    "\n",
    "latent_dim = 1024\n",
    "\n",
    "# Define the encoder model\n",
    "class Encoder(nn.Module):\n",
    "    def __init__(self):\n",
    "        super(Encoder, self).__init__()\n",
    "        self.conv1 = nn.Conv2d(3, 32, kernel_size=3, stride=2, padding=1) #[N,3,64,64]\n",
    "        self.conv2 = nn.Conv2d(32, 64, kernel_size=3, stride=2, padding=1) #[N,3,32,32]\n",
    "        self.flatten = nn.Flatten() #[N,3*32*32]\n",
    "        self.fc1 = nn.Linear(32 * 32 * 64, 1024)\n",
    "        self.fc_z_mean = nn.Linear(1024, latent_dim)\n",
    "        self.fc_z_log_var = nn.Linear(1024, latent_dim)\n",
    "        \n",
    "    def forward(self, x):\n",
    "        x = nn.functional.relu(self.conv1(x))\n",
    "        x = nn.functional.relu(self.conv2(x))\n",
    "        x = self.flatten(x)\n",
    "        x = nn.functional.relu(self.fc1(x))\n",
    "        z_mean = self.fc_z_mean(x)\n",
    "        z_log_var = self.fc_z_log_var(x)\n",
    "        return z_mean, z_log_var\n",
    "\n",
    "encoder = Encoder()\n",
    "\n",
    "# Define the decoder model\n",
    "class Decoder(nn.Module):\n",
    "    def __init__(self):\n",
    "        super(Decoder, self).__init__()\n",
    "        self.fc1 = nn.Linear(latent_dim, 32 * 32 * 64)\n",
    "        # self.reshape = nn.View((64, 16, 16)\n",
    "        self.deconv1 = nn.ConvTranspose2d(64, 32, kernel_size=3, stride=2, padding=1, output_padding=1)\n",
    "        # self.deconv2 = nn.ConvTranspose2d(64, 32, kernel_size=3, stride=2, padding=1, output_padding=1)\n",
    "        self.deconv3 = nn.ConvTranspose2d(32, 3, kernel_size=3, stride=2, padding=1, output_padding=1)\n",
    "        \n",
    "    def forward(self, x):\n",
    "        x = nn.functional.relu(self.fc1(x))\n",
    "        # print(x.shape)\n",
    "        x = x.reshape(32,64,32,32)\n",
    "        x = nn.functional.relu(self.deconv1(x))\n",
    "        # x = nn.functional.relu(self.deconv2(x))\n",
    "        x = nn.functional.sigmoid(self.deconv3(x))\n",
    "        return x\n",
    "\n",
    "decoder = Decoder()\n",
    "\n",
    "# Define the VAE model\n",
    "class VAE(nn.Module):\n",
    "    def __init__(self, encoder, decoder):\n",
    "        super(VAE, self).__init__()\n",
    "        self.encoder = encoder\n",
    "        self.decoder = decoder\n",
    "        \n",
    "    def reparameterize(self, mean, log_var):\n",
    "        std = torch.exp(0.5 * log_var)\n",
    "        epsilon = torch.randn_like(std)\n",
    "        return mean + epsilon * std\n",
    "        \n",
    "    def forward(self, x):\n",
    "        z_mean, z_log_var = self.encoder(x)\n",
    "        z = self.reparameterize(z_mean, z_log_var)\n",
    "        reconstructed_x = self.decoder(z)\n",
    "        return reconstructed_x, z_mean, z_log_var\n",
    "\n",
    "vae = VAE(encoder, decoder)\n",
    "\n",
    "# Print model summaries (PyTorch does not have a built-in summary function)\n",
    "print(encoder)\n",
    "print(decoder)\n",
    "print(vae)\n",
    "\n",
    "# Sample input shapes\n",
    "sample_input = torch.randn(1, 3, 128, 128)\n",
    "print(sample_input.shape)\n"
   ]
  },
  {
   "cell_type": "code",
   "execution_count": 54,
   "metadata": {},
   "outputs": [],
   "source": [
    "device = torch.device('cuda' if torch.cuda.is_available() else 'cpu')\n",
    "model = AutoEncoder(latent_dim=1024).to(device)\n",
    "# model = VAE(encoder,decoder).to(device)\n",
    "criterion = nn.MSELoss()\n",
    "optimizer = torch.optim.Adam(model.parameters(),lr=3e-4)"
   ]
  },
  {
   "cell_type": "code",
   "execution_count": 55,
   "metadata": {},
   "outputs": [
    {
     "data": {
      "text/plain": [
       "True"
      ]
     },
     "execution_count": 55,
     "metadata": {},
     "output_type": "execute_result"
    }
   ],
   "source": [
    "torch.cuda.is_available()"
   ]
  },
  {
   "cell_type": "code",
   "execution_count": 58,
   "metadata": {},
   "outputs": [
    {
     "name": "stderr",
     "output_type": "stream",
     "text": [
      "100%|██████████| 250/250 [00:10<00:00, 24.62it/s]\n"
     ]
    },
    {
     "name": "stdout",
     "output_type": "stream",
     "text": [
      "epoch: 1, loss: 7.575526896630436e-05\n"
     ]
    },
    {
     "name": "stderr",
     "output_type": "stream",
     "text": [
      "100%|██████████| 250/250 [00:10<00:00, 24.75it/s]\n"
     ]
    },
    {
     "name": "stdout",
     "output_type": "stream",
     "text": [
      "epoch: 2, loss: 5.863411298889787e-05\n"
     ]
    },
    {
     "name": "stderr",
     "output_type": "stream",
     "text": [
      "100%|██████████| 250/250 [00:10<00:00, 24.68it/s]\n"
     ]
    },
    {
     "name": "stdout",
     "output_type": "stream",
     "text": [
      "epoch: 3, loss: 5.122889378128548e-05\n"
     ]
    },
    {
     "name": "stderr",
     "output_type": "stream",
     "text": [
      "100%|██████████| 250/250 [00:10<00:00, 24.66it/s]\n"
     ]
    },
    {
     "name": "stdout",
     "output_type": "stream",
     "text": [
      "epoch: 4, loss: 4.727704487805795e-05\n"
     ]
    },
    {
     "name": "stderr",
     "output_type": "stream",
     "text": [
      "100%|██████████| 250/250 [00:10<00:00, 24.64it/s]\n"
     ]
    },
    {
     "name": "stdout",
     "output_type": "stream",
     "text": [
      "epoch: 5, loss: 4.494594772808114e-05\n"
     ]
    },
    {
     "name": "stderr",
     "output_type": "stream",
     "text": [
      "100%|██████████| 250/250 [00:10<00:00, 24.56it/s]\n"
     ]
    },
    {
     "name": "stdout",
     "output_type": "stream",
     "text": [
      "epoch: 6, loss: 4.348883101812362e-05\n"
     ]
    },
    {
     "name": "stderr",
     "output_type": "stream",
     "text": [
      "100%|██████████| 250/250 [00:10<00:00, 24.60it/s]\n"
     ]
    },
    {
     "name": "stdout",
     "output_type": "stream",
     "text": [
      "epoch: 7, loss: 4.253143753629729e-05\n"
     ]
    },
    {
     "name": "stderr",
     "output_type": "stream",
     "text": [
      "100%|██████████| 250/250 [00:10<00:00, 24.62it/s]\n"
     ]
    },
    {
     "name": "stdout",
     "output_type": "stream",
     "text": [
      "epoch: 8, loss: 4.18584721231241e-05\n"
     ]
    },
    {
     "name": "stderr",
     "output_type": "stream",
     "text": [
      "100%|██████████| 250/250 [00:10<00:00, 24.62it/s]\n"
     ]
    },
    {
     "name": "stdout",
     "output_type": "stream",
     "text": [
      "epoch: 9, loss: 4.138936834152673e-05\n"
     ]
    },
    {
     "name": "stderr",
     "output_type": "stream",
     "text": [
      "100%|██████████| 250/250 [00:10<00:00, 24.40it/s]\n"
     ]
    },
    {
     "name": "stdout",
     "output_type": "stream",
     "text": [
      "epoch: 10, loss: 4.1139628606856604e-05\n"
     ]
    },
    {
     "name": "stderr",
     "output_type": "stream",
     "text": [
      "100%|██████████| 250/250 [00:10<00:00, 24.59it/s]\n"
     ]
    },
    {
     "name": "stdout",
     "output_type": "stream",
     "text": [
      "epoch: 11, loss: 5.311331263868624e-05\n"
     ]
    },
    {
     "name": "stderr",
     "output_type": "stream",
     "text": [
      "100%|██████████| 250/250 [00:10<00:00, 24.52it/s]\n"
     ]
    },
    {
     "name": "stdout",
     "output_type": "stream",
     "text": [
      "epoch: 12, loss: 5.238260816042839e-05\n"
     ]
    },
    {
     "name": "stderr",
     "output_type": "stream",
     "text": [
      "100%|██████████| 250/250 [00:10<00:00, 24.51it/s]\n"
     ]
    },
    {
     "name": "stdout",
     "output_type": "stream",
     "text": [
      "epoch: 13, loss: 5.3866329579932426e-05\n"
     ]
    },
    {
     "name": "stderr",
     "output_type": "stream",
     "text": [
      "100%|██████████| 250/250 [00:10<00:00, 24.52it/s]\n"
     ]
    },
    {
     "name": "stdout",
     "output_type": "stream",
     "text": [
      "epoch: 14, loss: 5.599197519501331e-05\n"
     ]
    },
    {
     "name": "stderr",
     "output_type": "stream",
     "text": [
      "100%|██████████| 250/250 [00:10<00:00, 24.51it/s]\n"
     ]
    },
    {
     "name": "stdout",
     "output_type": "stream",
     "text": [
      "epoch: 15, loss: 5.1533401027370473e-05\n"
     ]
    },
    {
     "name": "stderr",
     "output_type": "stream",
     "text": [
      "100%|██████████| 250/250 [00:10<00:00, 24.49it/s]\n"
     ]
    },
    {
     "name": "stdout",
     "output_type": "stream",
     "text": [
      "epoch: 16, loss: 5.6011351063034454e-05\n"
     ]
    },
    {
     "name": "stderr",
     "output_type": "stream",
     "text": [
      "100%|██████████| 250/250 [00:10<00:00, 24.42it/s]\n"
     ]
    },
    {
     "name": "stdout",
     "output_type": "stream",
     "text": [
      "epoch: 17, loss: 5.1954228119655e-05\n"
     ]
    },
    {
     "name": "stderr",
     "output_type": "stream",
     "text": [
      "100%|██████████| 250/250 [00:10<00:00, 24.47it/s]\n"
     ]
    },
    {
     "name": "stdout",
     "output_type": "stream",
     "text": [
      "epoch: 18, loss: 5.059748691138566e-05\n"
     ]
    },
    {
     "name": "stderr",
     "output_type": "stream",
     "text": [
      "100%|██████████| 250/250 [00:10<00:00, 24.49it/s]\n"
     ]
    },
    {
     "name": "stdout",
     "output_type": "stream",
     "text": [
      "epoch: 19, loss: 5.013507065854128e-05\n"
     ]
    },
    {
     "name": "stderr",
     "output_type": "stream",
     "text": [
      "100%|██████████| 250/250 [00:10<00:00, 24.47it/s]"
     ]
    },
    {
     "name": "stdout",
     "output_type": "stream",
     "text": [
      "epoch: 20, loss: 5.364818539277394e-05\n"
     ]
    },
    {
     "name": "stderr",
     "output_type": "stream",
     "text": [
      "\n"
     ]
    }
   ],
   "source": [
    "num_epochs = 20\n",
    "for epoch in range(num_epochs):\n",
    "    total_loss = 0\n",
    "    for x_jets,labels in tqdm(dataloader,total = len(dataloader)):\n",
    "        x_jets = x_jets.to(device)\n",
    "        optimizer.zero_grad()\n",
    "        x_hat = model(x_jets)\n",
    "        # print(x_hat.shape)\n",
    "        # print(x_jets.shape)\n",
    "        loss = criterion(x_jets,x_hat)\n",
    "        loss.backward()\n",
    "        total_loss+=loss.item()\n",
    "        optimizer.step()\n",
    "    torch.cuda.empty_cache()\n",
    "    print(f'epoch: {epoch+1}, loss: {total_loss}')\n"
   ]
  },
  {
   "cell_type": "code",
   "execution_count": 59,
   "metadata": {},
   "outputs": [
    {
     "data": {
      "image/png": "[encoded data removed]",
      "text/plain": [
       "<Figure size 2000x2000 with 6 Axes>"
      ]
     },
     "metadata": {},
     "output_type": "display_data"
    }
   ],
   "source": [
    "test_img = h5py.File(path,'r')['X_jets'][20000]\n",
    "test_img = (test_img - test_img.min())/(test_img.max()-test_img.min())\n",
    "fig,axs = plt.subplots(1,3,figsize = (20,20))\n",
    "im1 = axs[0].imshow(test_img[:,:,0])\n",
    "axs[0].set_title('ECAL')\n",
    "im2 = axs[1].imshow(test_img[:,:,1])\n",
    "axs[1].set_title('ECAL')\n",
    "im3 = axs[2].imshow(test_img[:,:,2])\n",
    "axs[2].set_title('ECAL')\n",
    "\n",
    "fig.colorbar(im1, ax=axs[0], shrink=0.25)\n",
    "fig.colorbar(im2, ax=axs[1], shrink=0.25)\n",
    "fig.colorbar(im3, ax=axs[2], shrink=0.25)\n",
    "\n",
    "plt.show()"
   ]
  },
  {
   "cell_type": "code",
   "execution_count": 60,
   "metadata": {},
   "outputs": [
    {
     "data": {
      "text/plain": [
       "torch.Size([1, 128, 128, 3])"
      ]
     },
     "execution_count": 60,
     "metadata": {},
     "output_type": "execute_result"
    }
   ],
   "source": [
    "test_img = torch.as_tensor(cv2.resize(test_img,(128,128))).unsqueeze(0)\n",
    "test_img.shape"
   ]
  },
  {
   "cell_type": "code",
   "execution_count": 61,
   "metadata": {},
   "outputs": [],
   "source": [
    "test_reconstructed = model(test_img.permute(0,3,1,2).to(device))"
   ]
  },
  {
   "cell_type": "code",
   "execution_count": 62,
   "metadata": {},
   "outputs": [
    {
     "data": {
      "text/plain": [
       "torch.Size([1, 3, 128, 128])"
      ]
     },
     "execution_count": 62,
     "metadata": {},
     "output_type": "execute_result"
    }
   ],
   "source": [
    "test_reconstructed.shape"
   ]
  },
  {
   "cell_type": "code",
   "execution_count": 1,
   "metadata": {},
   "outputs": [
    {
     "ename": "NameError",
     "evalue": "name 'plt' is not defined",
     "output_type": "error",
     "traceback": [
      "\u001b[0;31m---------------------------------------------------------------------------\u001b[0m",
      "\u001b[0;31mNameError\u001b[0m                                 Traceback (most recent call last)",
      "Cell \u001b[0;32mIn[1], line 1\u001b[0m\n\u001b[0;32m----> 1\u001b[0m fig,axs \u001b[39m=\u001b[39m plt\u001b[39m.\u001b[39msubplots(\u001b[39m1\u001b[39m,\u001b[39m3\u001b[39m,figsize \u001b[39m=\u001b[39m (\u001b[39m20\u001b[39m,\u001b[39m20\u001b[39m))\n\u001b[1;32m      2\u001b[0m im1 \u001b[39m=\u001b[39m axs[\u001b[39m0\u001b[39m]\u001b[39m.\u001b[39mimshow(test_reconstructed[\u001b[39m0\u001b[39m,\u001b[39m0\u001b[39m,:,:]\u001b[39m.\u001b[39mdetach()\u001b[39m.\u001b[39mcpu()\u001b[39m.\u001b[39mnumpy())\n\u001b[1;32m      3\u001b[0m axs[\u001b[39m0\u001b[39m]\u001b[39m.\u001b[39mset_title(\u001b[39m'\u001b[39m\u001b[39mECAL\u001b[39m\u001b[39m'\u001b[39m)\n",
      "\u001b[0;31mNameError\u001b[0m: name 'plt' is not defined"
     ]
    }
   ],
   "source": [
    "fig,axs = plt.subplots(1,3,figsize = (20,20))\n",
    "im1 = axs[0].imshow(test_reconstructed[0,0,:,:].detach().cpu().numpy())\n",
    "axs[0].set_title('ECAL')\n",
    "im2 = axs[1].imshow(test_reconstructed[0,1,:,:].detach().cpu().numpy())\n",
    "axs[1].set_title('HCAL')\n",
    "im3 = axs[2].imshow(test_reconstructed[0,2,:,:].detach().cpu().numpy())\n",
    "axs[2].set_title('Tracks')\n",
    "\n",
    "fig.colorbar(im1, ax=axs[0], shrink=0.25)\n",
    "fig.colorbar(im2, ax=axs[1], shrink=0.25)\n",
    "fig.colorbar(im3, ax=axs[2], shrink=0.25)\n",
    "\n",
    "plt.show()"
   ]
  },
  {
   "cell_type": "code",
   "execution_count": 1,
   "metadata": {},
   "outputs": [],
   "source": [
    "import torch\n",
    "import torch.nn as nn\n",
    "import math\n",
    "from functools import partial\n",
    "from inspect import isfunction\n",
    "\n",
    "def default(val, d):\n",
    "    if val is not None:\n",
    "        return val\n",
    "    return d() if isfunction(d) else d\n",
    "\n",
    "class Residual(nn.Module):\n",
    "    def __init__(self, fn):\n",
    "        super().__init__()\n",
    "        self.fn = fn\n",
    "\n",
    "    def forward(self, x, *args, **kwargs):\n",
    "        return self.fn(x, *args, **kwargs) + x\n",
    "\n",
    "def Upsample(dim):\n",
    "    return nn.ConvTranspose2d(dim,dim,kernel_size=4,stride=2,padding=1)\n",
    "\n",
    "def Downsample(dim):\n",
    "    return nn.Conv2d(dim,dim,kernel_size=4,stride=2,padding=1)\n",
    "\n",
    "class SinusoidalPositionEmbedding(nn.Module):\n",
    "    def __init__(self,dim):\n",
    "        super().__init__()\n",
    "        self.dim = dim\n",
    "\n",
    "    def forward(self,time):\n",
    "        device = time.device\n",
    "        embeddings = math.log(10000)/( (self.dim//2) -1)\n",
    "        embeddings = torch.exp(torch.arange(self.dim//2,device = device)* -embeddings)\n",
    "        embeddings = time[:,None] * embeddings[None,:]\n",
    "        embeddings = torch.cat((embeddings.sin(),embeddings.cos()),dim=-1)\n",
    "\n",
    "        return embeddings\n",
    "\n",
    "class Block(nn.Module):\n",
    "    def __init__(self,dim,dim_output,groups=8):\n",
    "        super().__init__()\n",
    "        self.proj = nn.Conv2d(dim,dim_output,kernel_size = 3,padding=1)\n",
    "        self.norm = nn.GroupNorm(groups,dim_output)\n",
    "        self.act = nn.SiLU()\n",
    "\n",
    "    def forward(self,x,scale_shift = None):\n",
    "        x = self.proj(x)\n",
    "        x = self.norm(x)\n",
    "\n",
    "        if scale_shift is not None:\n",
    "            scale,shift = scale_shift\n",
    "            x = x * (scale+1) + shift\n",
    "\n",
    "        x = self.act(x)\n",
    "\n",
    "        return x\n",
    "\n",
    "class ResNet(nn.Module):\n",
    "\n",
    "    def __init__(self,dim,dim_output,time_emb=None,groups=8):\n",
    "        super().__init__()\n",
    "        self.mlp = (\n",
    "            nn.Sequential(nn.SiLU(),nn.Linear(time_emb,dim_output)\n",
    "            if time_emb is not None else None)\n",
    "        )\n",
    "\n",
    "        self.block1 = Block(dim,dim_output,groups=groups)\n",
    "        self.block2 = Block(dim_output,dim_output,groups=groups)\n",
    "        self.res_conv = nn.Conv2d(dim,dim_output,1) if dim != dim_output else nn.Identity()\n",
    "\n",
    "\n",
    "    def forward(self,x,time_emb = None):\n",
    "        h = self.block1(x)\n",
    "\n",
    "        if self.mlp is not None and time_emb is not None:\n",
    "            time_emb = self.mlp(time_emb)\n",
    "            h = time_emb.unsqueeze(-1).unsqueeze(-1) + h\n",
    "\n",
    "        h = self.block2(h)\n",
    "\n",
    "        return h + self.res_conv(x)\n",
    "\n",
    "class ConvNextBlock(nn.Module):\n",
    "    def __init__(self, dim, dim_output, time_emb=None, mult=2, norm=True):\n",
    "        super().__init__()\n",
    "        self.mlp = (\n",
    "            nn.Sequential(nn.GELU(), nn.Linear(time_emb, dim))\n",
    "            if time_emb is not None else None\n",
    "        )\n",
    "\n",
    "        self.ds_conv = nn.Conv2d(dim, dim, 7, padding=3, groups=dim)\n",
    "\n",
    "        self.net = nn.Sequential(\n",
    "            nn.GroupNorm(1, dim) if norm else nn.Identity(),\n",
    "            nn.Conv2d(dim, dim_output * mult, 3, padding=1),\n",
    "            nn.GELU(),\n",
    "            nn.GroupNorm(1, dim_output * mult),\n",
    "            nn.Conv2d(dim_output * mult, dim_output, 3, padding=1),\n",
    "        )\n",
    "\n",
    "        self.res_conv = nn.Conv2d(dim, dim_output, 1) if dim != dim_output else nn.Identity()\n",
    "\n",
    "\n",
    "    def forward(self,x,time_emb = None):\n",
    "        h = self.ds_conv(x)\n",
    "\n",
    "        if self.mlp is not None and time_emb is not None:\n",
    "            time_emb = self.mlp(time_emb)\n",
    "            h = time_emb.unsqueeze(-1).unsqueeze(-1) + h\n",
    "\n",
    "        h = self.net(h)\n",
    "\n",
    "        return h + self.res_conv(x)\n",
    "\n",
    "\n",
    "class Attention(nn.Module):\n",
    "    def __init__(self,dim,num_heads=4):\n",
    "        super().__init__()\n",
    "        self.num_heads = num_heads\n",
    "        head_dim = dim // num_heads\n",
    "        self.scale = head_dim**-0.5\n",
    "        self.qkv = nn.Linear(dim,dim*3)\n",
    "        self.proj = nn.Linear(dim,dim)\n",
    "\n",
    "    def forward(self,x):\n",
    "        # print(f'attention_Forward{x.shape}')\n",
    "        B,C,H,W = x.shape\n",
    "        qkv = self.qkv(x.permute(0,3,2,1)).reshape(B,H*W,3,self.num_heads,-1).permute(2,0,3,1,4)\n",
    "        # print(f'qkv_Forward{x.shape}')\n",
    "        q,k,v = qkv.reshape(3,B*self.num_heads,H*W,-1).unbind(0)\n",
    "\n",
    "        attn = (q*self.scale) @ k.transpose(-2,-1)\n",
    "        # print(f'attn_Forward{x.shape}')\n",
    "        attn =attn.softmax(dim=-1)\n",
    "        x = (attn @ v).view(B,self.num_heads,H,W,-1).permute(0,2,3,1,4).reshape(B,H,W,-1)\n",
    "        # print(f'x_Forward{x.shape}')\n",
    "        x = x.permute(0,3,2,1)\n",
    "        return x \n",
    "\n",
    "class PreNorm(nn.Module):\n",
    "    def __init__(self, dim, fn):\n",
    "        super().__init__()\n",
    "        self.fn = fn\n",
    "        self.norm = nn.GroupNorm(1, dim)\n",
    "\n",
    "    def forward(self, x):\n",
    "        x = self.norm(x)\n",
    "        return self.fn(x)\n",
    "\n",
    "class UNet(nn.Module):\n",
    "    def __init__(self,dim,init_dim=None,output_dim=None,dim_mults = (1,2,4,8),\n",
    "                 channels = 3,with_time_emb=True,resnet_block_group=8,use_convnext=True,\n",
    "                 convnext_mult=2,\n",
    "                ):\n",
    "\n",
    "                super().__init__()\n",
    "\n",
    "                self.channels = channels\n",
    "                # init_dim = default(init_dim,dim //3 * 2) \n",
    "                init_dim = default(init_dim, dim // 3 * 2)\n",
    "\n",
    "                self.init_conv = nn.Conv2d(channels, init_dim, 7, padding=3)\n",
    "                dims = [init_dim, *map(lambda m: dim * m, dim_mults)]\n",
    "                in_out = list(zip(dims[:-1], dims[1:]))\n",
    "\n",
    "                if use_convnext:\n",
    "                    block_class = partial(ConvNextBlock, mult=convnext_mult)\n",
    "                else:\n",
    "                    block_class = partial(ResnetBlock, groups=resnet_block_groups)\n",
    "\n",
    "            \n",
    "                if with_time_emb:\n",
    "                    time_dim = dim * 4\n",
    "                    self.time_mlp = nn.Sequential(\n",
    "                    SinusoidalPositionEmbedding(dim),\n",
    "                    nn.Linear(dim, time_dim),\n",
    "                    nn.GELU(),\n",
    "                    nn.Linear(time_dim, time_dim),\n",
    "                )\n",
    "                else:\n",
    "                    time_dim = None\n",
    "                    self.time_mlp = None\n",
    "\n",
    "                self.downs = nn.ModuleList([])\n",
    "                self.ups = nn.ModuleList([])\n",
    "                num_resolutions = len(in_out)\n",
    "                for ind, (dim_in, dim_out) in enumerate(in_out):\n",
    "                    is_last = ind >= (num_resolutions - 1)\n",
    "\n",
    "                    self.downs.append(\n",
    "                        nn.ModuleList(\n",
    "                            [\n",
    "                                block_class(dim_in, dim_out, time_emb=time_dim),\n",
    "                                block_class(dim_out, dim_out, time_emb=time_dim),\n",
    "                                Residual(PreNorm(dim_out, Attention(dim_out))),\n",
    "                                Downsample(dim_out) if not is_last else nn.Identity(),\n",
    "                            ]\n",
    "                        )\n",
    "                    )\n",
    "\n",
    "                mid_dim = dims[-1]\n",
    "                self.mid_block1 = block_class(mid_dim, mid_dim, time_emb=time_dim)\n",
    "                self.mid_attn = Residual(PreNorm(mid_dim, Attention(mid_dim)))\n",
    "                self.mid_block2 = block_class(mid_dim, mid_dim, time_emb=time_dim)\n",
    "\n",
    "                for ind, (dim_in, dim_out) in enumerate(reversed(in_out[1:])):\n",
    "                    is_last = ind >= (num_resolutions - 1)\n",
    "\n",
    "                    self.ups.append(\n",
    "                        nn.ModuleList(\n",
    "                            [\n",
    "                                block_class(dim_out * 2, dim_in, time_emb=time_dim),\n",
    "                                block_class(dim_in, dim_in, time_emb=time_dim),\n",
    "                                Residual(PreNorm(dim_in, Attention(dim_in))),\n",
    "                                Upsample(dim_in) if not is_last else nn.Identity(),\n",
    "                            ]\n",
    "                        )\n",
    "                    )\n",
    "\n",
    "                out_dim = default(output_dim, channels)\n",
    "                self.final_conv = nn.Sequential(\n",
    "                    block_class(dim, dim), nn.Conv2d(dim, out_dim, 1)\n",
    "                )\n",
    "\n",
    "    def forward(self, x, time):\n",
    "        x = self.init_conv(x)\n",
    "\n",
    "        t = self.time_mlp(time) if self.time_mlp is not None else None\n",
    "\n",
    "        h = []\n",
    "\n",
    "        # downsample\n",
    "        for block1, block2, attn, downsample in self.downs:\n",
    "            x = block1(x, t)\n",
    "            x = block2(x, t)\n",
    "            x = attn(x)\n",
    "            h.append(x)\n",
    "            x = downsample(x)\n",
    "\n",
    "        # bottleneck\n",
    "        x = self.mid_block1(x, t)\n",
    "        x = self.mid_attn(x)\n",
    "        x = self.mid_block2(x, t)\n",
    "\n",
    "        # upsample\n",
    "        for block1, block2, attn, upsample in self.ups:\n",
    "            x = torch.cat((x, h.pop()), dim=1)\n",
    "            x = block1(x, t)\n",
    "            x = block2(x, t)\n",
    "            x = attn(x)\n",
    "            x = upsample(x)\n",
    "\n",
    "        return self.final_conv(x)    \n",
    "\n",
    "\n"
   ]
  },
  {
   "cell_type": "code",
   "execution_count": 4,
   "metadata": {},
   "outputs": [
    {
     "name": "stdout",
     "output_type": "stream",
     "text": [
      "torch.Size([4, 3, 64, 64])\n"
     ]
    },
    {
     "data": {
      "image/png": "[encoded data removed]",
      "text/plain": [
       "<Figure size 640x480 with 4 Axes>"
      ]
     },
     "metadata": {},
     "output_type": "display_data"
    },
    {
     "data": {
      "image/png": "[encoded data removed]",
      "text/plain": [
       "<Figure size 640x480 with 4 Axes>"
      ]
     },
     "metadata": {},
     "output_type": "display_data"
    },
    {
     "data": {
      "image/png": "[encoded data removed]",
      "text/plain": [
       "<Figure size 640x480 with 4 Axes>"
      ]
     },
     "metadata": {},
     "output_type": "display_data"
    },
    {
     "data": {
      "image/png": "[encoded data removed]",
      "text/plain": [
       "<Figure size 640x480 with 4 Axes>"
      ]
     },
     "metadata": {},
     "output_type": "display_data"
    }
   ],
   "source": [
    "import torch\n",
    "import torch.nn as nn\n",
    "import torchvision\n",
    "import sys\n",
    "import os\n",
    "sys.path += ['/home/pratyush/Desktop/diffusion/models/diffusion','..']\n",
    "from dataset import Quark_Gluon_Dataset\n",
    "from backward import UNet\n",
    "from ddpm import DenoiseDiffusion_DDPM\n",
    "import argparse\n",
    "from tqdm.autonotebook import tqdm\n",
    "import matplotlib.pyplot as plt\n",
    "\n",
    "# parser = argparse.ArgumentParser(description='Diffusion Training')\n",
    "\n",
    "# parser.add_argument('--num_epochs',type=int,default=20,help = 'number of epochs')\n",
    "# parser.add_argument('--T',type=int,default=200,help='number of time steps T')\n",
    "# # parser.add_argument('--base_channel_size',type=int,default=32,help='size of base channel')\n",
    "# parser.add_argument('--lr',type=float,default=3e-4,help='learning rate')\n",
    "# parser.add_argument('--num_samples',type=int,default=10000,help='training data size')\n",
    "# parser.add_argument('--batch_size',type=int,default=32,help = 'batch size')\n",
    "\n",
    "# args = parser.parse_args()\n",
    "\n",
    "#Dataset\n",
    "\n",
    "path = '/home/pratyush/Desktop/diffusion'\n",
    "os.makedirs(os.path.join(path,'testing'),exist_ok=True)\n",
    "data_path = os.path.join(path,'quark-gluon_data-set_n139306.hdf5')\n",
    "transform = torchvision.transforms.Compose([torchvision.transforms.Resize((64,64))])\n",
    "# transform=torchvision.transforms.Compose([\n",
    "#         torchvision.transforms.ToTensor(),\n",
    "#         torchvision.transforms.Resize((64,64)),\n",
    "#         torchvision.transforms.Lambda(lambda t: (t * 2) - 1)\n",
    "# ])\n",
    "\n",
    "data = Quark_Gluon_Dataset(data_path,num_samples=4,transform=transform)\n",
    "dataloader = torch.utils.data.DataLoader(data,batch_size=4,\n",
    "                                         num_workers=1,shuffle=True)\n",
    "\n",
    "\n",
    "device = torch.device('cuda' if torch.cuda.is_available() else 'cpu')\n",
    "model = UNet(dim=128,channels=3,dim_mults=(1,2,4,)).to(device)\n",
    "diffusion = DenoiseDiffusion_DDPM(model,800,device)\n",
    "\n",
    "optimizer = torch.optim.Adam(model.parameters(),lr=3e-5)\n",
    "jets,labels = next(iter(dataloader))\n",
    "print(jets.shape)\n",
    "\n",
    "for i in range(4):\n",
    "    plt.subplot(4,4,i+1)\n",
    "    plt.imshow(jets[i].permute(2,1,0))\n",
    "    plt.subplot(4,4,i+4)\n",
    "    plt.imshow(jets[i,0,:,:])\n",
    "    plt.subplot(4,4,i+8)\n",
    "    plt.imshow(jets[i,1,:,:])\n",
    "    plt.subplot(4,4,i+12)\n",
    "    plt.imshow(jets[i,2,:,:])\n",
    "    plt.show()\n",
    "\n"
   ]
  },
  {
   "cell_type": "code",
   "execution_count": 9,
   "metadata": {},
   "outputs": [
    {
     "name": "stderr",
     "output_type": "stream",
     "text": [
      "  0%|          | 0/1 [00:00<?, ?it/s]Clipping input data to the valid range for imshow with RGB data ([0..1] for floats or [0..255] for integers).\n",
      "100%|██████████| 1/1 [00:00<00:00,  2.53it/s]\n"
     ]
    },
    {
     "name": "stdout",
     "output_type": "stream",
     "text": [
      "epoch: 1, loss: 0.43177077174186707\n"
     ]
    },
    {
     "name": "stderr",
     "output_type": "stream",
     "text": [
      "100%|██████████| 1/1 [00:00<00:00,  4.24it/s]\n"
     ]
    },
    {
     "name": "stdout",
     "output_type": "stream",
     "text": [
      "epoch: 2, loss: 0.42533358931541443\n"
     ]
    },
    {
     "name": "stderr",
     "output_type": "stream",
     "text": [
      "100%|██████████| 1/1 [00:00<00:00,  4.08it/s]\n"
     ]
    },
    {
     "name": "stdout",
     "output_type": "stream",
     "text": [
      "epoch: 3, loss: 0.4209318161010742\n"
     ]
    },
    {
     "name": "stderr",
     "output_type": "stream",
     "text": [
      "100%|██████████| 1/1 [00:00<00:00,  4.27it/s]\n"
     ]
    },
    {
     "name": "stdout",
     "output_type": "stream",
     "text": [
      "epoch: 4, loss: 0.41958147287368774\n"
     ]
    },
    {
     "name": "stderr",
     "output_type": "stream",
     "text": [
      "100%|██████████| 1/1 [00:00<00:00,  4.17it/s]\n"
     ]
    },
    {
     "name": "stdout",
     "output_type": "stream",
     "text": [
      "epoch: 5, loss: 0.41838324069976807\n"
     ]
    },
    {
     "name": "stderr",
     "output_type": "stream",
     "text": [
      "  0%|          | 0/1 [00:00<?, ?it/s]Clipping input data to the valid range for imshow with RGB data ([0..1] for floats or [0..255] for integers).\n",
      "100%|██████████| 1/1 [00:00<00:00,  2.64it/s]\n"
     ]
    },
    {
     "name": "stdout",
     "output_type": "stream",
     "text": [
      "epoch: 6, loss: 0.4240124821662903\n"
     ]
    },
    {
     "name": "stderr",
     "output_type": "stream",
     "text": [
      "100%|██████████| 1/1 [00:00<00:00,  4.17it/s]\n"
     ]
    },
    {
     "name": "stdout",
     "output_type": "stream",
     "text": [
      "epoch: 7, loss: 0.4126812219619751\n"
     ]
    },
    {
     "name": "stderr",
     "output_type": "stream",
     "text": [
      "100%|██████████| 1/1 [00:00<00:00,  4.21it/s]\n"
     ]
    },
    {
     "name": "stdout",
     "output_type": "stream",
     "text": [
      "epoch: 8, loss: 0.4044426381587982\n"
     ]
    },
    {
     "name": "stderr",
     "output_type": "stream",
     "text": [
      "100%|██████████| 1/1 [00:00<00:00,  4.13it/s]\n"
     ]
    },
    {
     "name": "stdout",
     "output_type": "stream",
     "text": [
      "epoch: 9, loss: 0.4049108028411865\n"
     ]
    },
    {
     "name": "stderr",
     "output_type": "stream",
     "text": [
      "100%|██████████| 1/1 [00:00<00:00,  4.00it/s]\n"
     ]
    },
    {
     "name": "stdout",
     "output_type": "stream",
     "text": [
      "epoch: 10, loss: 0.41809457540512085\n"
     ]
    },
    {
     "name": "stderr",
     "output_type": "stream",
     "text": [
      "  0%|          | 0/1 [00:00<?, ?it/s]Clipping input data to the valid range for imshow with RGB data ([0..1] for floats or [0..255] for integers).\n",
      "100%|██████████| 1/1 [00:00<00:00,  1.89it/s]\n"
     ]
    },
    {
     "name": "stdout",
     "output_type": "stream",
     "text": [
      "epoch: 11, loss: 0.39724063873291016\n"
     ]
    },
    {
     "name": "stderr",
     "output_type": "stream",
     "text": [
      "100%|██████████| 1/1 [00:00<00:00,  4.22it/s]\n"
     ]
    },
    {
     "name": "stdout",
     "output_type": "stream",
     "text": [
      "epoch: 12, loss: 0.3929063677787781\n"
     ]
    },
    {
     "name": "stderr",
     "output_type": "stream",
     "text": [
      "100%|██████████| 1/1 [00:00<00:00,  4.02it/s]\n"
     ]
    },
    {
     "name": "stdout",
     "output_type": "stream",
     "text": [
      "epoch: 13, loss: 0.3887919783592224\n"
     ]
    },
    {
     "name": "stderr",
     "output_type": "stream",
     "text": [
      "100%|██████████| 1/1 [00:00<00:00,  3.96it/s]\n"
     ]
    },
    {
     "name": "stdout",
     "output_type": "stream",
     "text": [
      "epoch: 14, loss: 0.38530248403549194\n"
     ]
    },
    {
     "name": "stderr",
     "output_type": "stream",
     "text": [
      "100%|██████████| 1/1 [00:00<00:00,  3.88it/s]\n"
     ]
    },
    {
     "name": "stdout",
     "output_type": "stream",
     "text": [
      "epoch: 15, loss: 0.38170886039733887\n"
     ]
    },
    {
     "name": "stderr",
     "output_type": "stream",
     "text": [
      "  0%|          | 0/1 [00:00<?, ?it/s]Clipping input data to the valid range for imshow with RGB data ([0..1] for floats or [0..255] for integers).\n",
      "100%|██████████| 1/1 [00:00<00:00,  2.60it/s]\n"
     ]
    },
    {
     "name": "stdout",
     "output_type": "stream",
     "text": [
      "epoch: 16, loss: 0.3888767659664154\n"
     ]
    },
    {
     "name": "stderr",
     "output_type": "stream",
     "text": [
      "100%|██████████| 1/1 [00:00<00:00,  4.23it/s]\n"
     ]
    },
    {
     "name": "stdout",
     "output_type": "stream",
     "text": [
      "epoch: 17, loss: 0.38051170110702515\n"
     ]
    },
    {
     "name": "stderr",
     "output_type": "stream",
     "text": [
      "100%|██████████| 1/1 [00:00<00:00,  3.94it/s]\n"
     ]
    },
    {
     "name": "stdout",
     "output_type": "stream",
     "text": [
      "epoch: 18, loss: 0.4364132881164551\n"
     ]
    },
    {
     "name": "stderr",
     "output_type": "stream",
     "text": [
      "100%|██████████| 1/1 [00:00<00:00,  3.90it/s]\n"
     ]
    },
    {
     "name": "stdout",
     "output_type": "stream",
     "text": [
      "epoch: 19, loss: 0.37649568915367126\n"
     ]
    },
    {
     "name": "stderr",
     "output_type": "stream",
     "text": [
      "100%|██████████| 1/1 [00:00<00:00,  3.98it/s]\n"
     ]
    },
    {
     "name": "stdout",
     "output_type": "stream",
     "text": [
      "epoch: 20, loss: 0.4459800720214844\n"
     ]
    },
    {
     "name": "stderr",
     "output_type": "stream",
     "text": [
      "  0%|          | 0/1 [00:00<?, ?it/s]Clipping input data to the valid range for imshow with RGB data ([0..1] for floats or [0..255] for integers).\n",
      "100%|██████████| 1/1 [00:00<00:00,  2.59it/s]\n"
     ]
    },
    {
     "name": "stdout",
     "output_type": "stream",
     "text": [
      "epoch: 21, loss: 0.4100048542022705\n"
     ]
    },
    {
     "name": "stderr",
     "output_type": "stream",
     "text": [
      "100%|██████████| 1/1 [00:00<00:00,  4.12it/s]\n"
     ]
    },
    {
     "name": "stdout",
     "output_type": "stream",
     "text": [
      "epoch: 22, loss: 0.3684083819389343\n"
     ]
    },
    {
     "name": "stderr",
     "output_type": "stream",
     "text": [
      "100%|██████████| 1/1 [00:00<00:00,  3.98it/s]\n"
     ]
    },
    {
     "name": "stdout",
     "output_type": "stream",
     "text": [
      "epoch: 23, loss: 0.37603744864463806\n"
     ]
    },
    {
     "name": "stderr",
     "output_type": "stream",
     "text": [
      "100%|██████████| 1/1 [00:00<00:00,  4.35it/s]\n"
     ]
    },
    {
     "name": "stdout",
     "output_type": "stream",
     "text": [
      "epoch: 24, loss: 0.370680034160614\n"
     ]
    },
    {
     "name": "stderr",
     "output_type": "stream",
     "text": [
      "100%|██████████| 1/1 [00:00<00:00,  3.94it/s]\n"
     ]
    },
    {
     "name": "stdout",
     "output_type": "stream",
     "text": [
      "epoch: 25, loss: 0.364205539226532\n"
     ]
    },
    {
     "name": "stderr",
     "output_type": "stream",
     "text": [
      "  0%|          | 0/1 [00:00<?, ?it/s]Clipping input data to the valid range for imshow with RGB data ([0..1] for floats or [0..255] for integers).\n",
      "100%|██████████| 1/1 [00:00<00:00,  2.62it/s]\n"
     ]
    },
    {
     "name": "stdout",
     "output_type": "stream",
     "text": [
      "epoch: 26, loss: 0.36776143312454224\n"
     ]
    },
    {
     "name": "stderr",
     "output_type": "stream",
     "text": [
      "100%|██████████| 1/1 [00:00<00:00,  4.06it/s]\n"
     ]
    },
    {
     "name": "stdout",
     "output_type": "stream",
     "text": [
      "epoch: 27, loss: 0.36093902587890625\n"
     ]
    },
    {
     "name": "stderr",
     "output_type": "stream",
     "text": [
      "100%|██████████| 1/1 [00:00<00:00,  3.80it/s]\n"
     ]
    },
    {
     "name": "stdout",
     "output_type": "stream",
     "text": [
      "epoch: 28, loss: 0.3525879979133606\n"
     ]
    },
    {
     "name": "stderr",
     "output_type": "stream",
     "text": [
      "100%|██████████| 1/1 [00:00<00:00,  4.17it/s]\n"
     ]
    },
    {
     "name": "stdout",
     "output_type": "stream",
     "text": [
      "epoch: 29, loss: 0.360506534576416\n"
     ]
    },
    {
     "name": "stderr",
     "output_type": "stream",
     "text": [
      "100%|██████████| 1/1 [00:00<00:00,  4.00it/s]\n"
     ]
    },
    {
     "name": "stdout",
     "output_type": "stream",
     "text": [
      "epoch: 30, loss: 0.3542179763317108\n"
     ]
    },
    {
     "name": "stderr",
     "output_type": "stream",
     "text": [
      "  0%|          | 0/1 [00:00<?, ?it/s]Clipping input data to the valid range for imshow with RGB data ([0..1] for floats or [0..255] for integers).\n",
      "100%|██████████| 1/1 [00:00<00:00,  2.56it/s]\n"
     ]
    },
    {
     "name": "stdout",
     "output_type": "stream",
     "text": [
      "epoch: 31, loss: 0.34730836749076843\n"
     ]
    },
    {
     "name": "stderr",
     "output_type": "stream",
     "text": [
      "100%|██████████| 1/1 [00:00<00:00,  4.29it/s]\n"
     ]
    },
    {
     "name": "stdout",
     "output_type": "stream",
     "text": [
      "epoch: 32, loss: 0.3851552903652191\n"
     ]
    },
    {
     "name": "stderr",
     "output_type": "stream",
     "text": [
      "100%|██████████| 1/1 [00:00<00:00,  4.17it/s]\n"
     ]
    },
    {
     "name": "stdout",
     "output_type": "stream",
     "text": [
      "epoch: 33, loss: 0.345491886138916\n"
     ]
    },
    {
     "name": "stderr",
     "output_type": "stream",
     "text": [
      "100%|██████████| 1/1 [00:00<00:00,  4.26it/s]\n"
     ]
    },
    {
     "name": "stdout",
     "output_type": "stream",
     "text": [
      "epoch: 34, loss: 0.34320420026779175\n"
     ]
    },
    {
     "name": "stderr",
     "output_type": "stream",
     "text": [
      "100%|██████████| 1/1 [00:00<00:00,  4.00it/s]\n"
     ]
    },
    {
     "name": "stdout",
     "output_type": "stream",
     "text": [
      "epoch: 35, loss: 0.34298762679100037\n"
     ]
    },
    {
     "name": "stderr",
     "output_type": "stream",
     "text": [
      "  0%|          | 0/1 [00:00<?, ?it/s]Clipping input data to the valid range for imshow with RGB data ([0..1] for floats or [0..255] for integers).\n",
      "100%|██████████| 1/1 [00:00<00:00,  2.68it/s]\n"
     ]
    },
    {
     "name": "stdout",
     "output_type": "stream",
     "text": [
      "epoch: 36, loss: 0.3377610445022583\n"
     ]
    },
    {
     "name": "stderr",
     "output_type": "stream",
     "text": [
      "100%|██████████| 1/1 [00:00<00:00,  4.33it/s]\n"
     ]
    },
    {
     "name": "stdout",
     "output_type": "stream",
     "text": [
      "epoch: 37, loss: 0.33347392082214355\n"
     ]
    },
    {
     "name": "stderr",
     "output_type": "stream",
     "text": [
      "100%|██████████| 1/1 [00:00<00:00,  3.83it/s]\n"
     ]
    },
    {
     "name": "stdout",
     "output_type": "stream",
     "text": [
      "epoch: 38, loss: 0.3394875228404999\n"
     ]
    },
    {
     "name": "stderr",
     "output_type": "stream",
     "text": [
      "100%|██████████| 1/1 [00:00<00:00,  4.27it/s]\n"
     ]
    },
    {
     "name": "stdout",
     "output_type": "stream",
     "text": [
      "epoch: 39, loss: 0.33222150802612305\n"
     ]
    },
    {
     "name": "stderr",
     "output_type": "stream",
     "text": [
      "100%|██████████| 1/1 [00:00<00:00,  4.30it/s]\n"
     ]
    },
    {
     "name": "stdout",
     "output_type": "stream",
     "text": [
      "epoch: 40, loss: 0.32828187942504883\n"
     ]
    },
    {
     "name": "stderr",
     "output_type": "stream",
     "text": [
      "  0%|          | 0/1 [00:00<?, ?it/s]Clipping input data to the valid range for imshow with RGB data ([0..1] for floats or [0..255] for integers).\n",
      "100%|██████████| 1/1 [00:00<00:00,  1.81it/s]\n"
     ]
    },
    {
     "name": "stdout",
     "output_type": "stream",
     "text": [
      "epoch: 41, loss: 0.3229915499687195\n"
     ]
    },
    {
     "name": "stderr",
     "output_type": "stream",
     "text": [
      "100%|██████████| 1/1 [00:00<00:00,  4.11it/s]\n"
     ]
    },
    {
     "name": "stdout",
     "output_type": "stream",
     "text": [
      "epoch: 42, loss: 0.3235338628292084\n"
     ]
    },
    {
     "name": "stderr",
     "output_type": "stream",
     "text": [
      "100%|██████████| 1/1 [00:00<00:00,  4.12it/s]\n"
     ]
    },
    {
     "name": "stdout",
     "output_type": "stream",
     "text": [
      "epoch: 43, loss: 0.3195064961910248\n"
     ]
    },
    {
     "name": "stderr",
     "output_type": "stream",
     "text": [
      "100%|██████████| 1/1 [00:00<00:00,  4.22it/s]\n"
     ]
    },
    {
     "name": "stdout",
     "output_type": "stream",
     "text": [
      "epoch: 44, loss: 0.3209620714187622\n"
     ]
    },
    {
     "name": "stderr",
     "output_type": "stream",
     "text": [
      "100%|██████████| 1/1 [00:00<00:00,  4.24it/s]\n"
     ]
    },
    {
     "name": "stdout",
     "output_type": "stream",
     "text": [
      "epoch: 45, loss: 0.3137059807777405\n"
     ]
    },
    {
     "name": "stderr",
     "output_type": "stream",
     "text": [
      "  0%|          | 0/1 [00:00<?, ?it/s]Clipping input data to the valid range for imshow with RGB data ([0..1] for floats or [0..255] for integers).\n",
      "100%|██████████| 1/1 [00:00<00:00,  2.71it/s]\n"
     ]
    },
    {
     "name": "stdout",
     "output_type": "stream",
     "text": [
      "epoch: 46, loss: 0.36503466963768005\n"
     ]
    },
    {
     "name": "stderr",
     "output_type": "stream",
     "text": [
      "100%|██████████| 1/1 [00:00<00:00,  4.11it/s]\n"
     ]
    },
    {
     "name": "stdout",
     "output_type": "stream",
     "text": [
      "epoch: 47, loss: 0.3209637403488159\n"
     ]
    },
    {
     "name": "stderr",
     "output_type": "stream",
     "text": [
      "100%|██████████| 1/1 [00:00<00:00,  4.03it/s]\n"
     ]
    },
    {
     "name": "stdout",
     "output_type": "stream",
     "text": [
      "epoch: 48, loss: 0.31586602330207825\n"
     ]
    },
    {
     "name": "stderr",
     "output_type": "stream",
     "text": [
      "100%|██████████| 1/1 [00:00<00:00,  4.20it/s]\n"
     ]
    },
    {
     "name": "stdout",
     "output_type": "stream",
     "text": [
      "epoch: 49, loss: 0.40191763639450073\n"
     ]
    },
    {
     "name": "stderr",
     "output_type": "stream",
     "text": [
      "  0%|          | 0/1 [00:00<?, ?it/s]\n"
     ]
    },
    {
     "ename": "KeyboardInterrupt",
     "evalue": "",
     "output_type": "error",
     "traceback": [
      "\u001b[0;31m---------------------------------------------------------------------------\u001b[0m",
      "\u001b[0;31mKeyboardInterrupt\u001b[0m                         Traceback (most recent call last)",
      "\u001b[1;32m/home/pratyush/Desktop/diffusion/test/test.ipynb Cell 21\u001b[0m line \u001b[0;36m9\n\u001b[1;32m      <a href='vscode-notebook-cell:/home/pratyush/Desktop/diffusion/test/test.ipynb#X33sZmlsZQ%3D%3D?line=6'>7</a>\u001b[0m loss,reconstructed \u001b[39m=\u001b[39m diffusion\u001b[39m.\u001b[39mloss(jets\u001b[39m.\u001b[39mto(device))\n\u001b[1;32m      <a href='vscode-notebook-cell:/home/pratyush/Desktop/diffusion/test/test.ipynb#X33sZmlsZQ%3D%3D?line=7'>8</a>\u001b[0m loss\u001b[39m.\u001b[39mbackward()\n\u001b[0;32m----> <a href='vscode-notebook-cell:/home/pratyush/Desktop/diffusion/test/test.ipynb#X33sZmlsZQ%3D%3D?line=8'>9</a>\u001b[0m total_loss\u001b[39m+\u001b[39m\u001b[39m=\u001b[39mloss\u001b[39m.\u001b[39;49mitem()\n\u001b[1;32m     <a href='vscode-notebook-cell:/home/pratyush/Desktop/diffusion/test/test.ipynb#X33sZmlsZQ%3D%3D?line=9'>10</a>\u001b[0m optimizer\u001b[39m.\u001b[39mstep()\n\u001b[1;32m     <a href='vscode-notebook-cell:/home/pratyush/Desktop/diffusion/test/test.ipynb#X33sZmlsZQ%3D%3D?line=11'>12</a>\u001b[0m \u001b[39mif\u001b[39;00m epoch \u001b[39m%\u001b[39m \u001b[39m5\u001b[39m \u001b[39m==\u001b[39m \u001b[39m0\u001b[39m \u001b[39mand\u001b[39;00m step \u001b[39m%\u001b[39m \u001b[39m4\u001b[39m \u001b[39m==\u001b[39m\u001b[39m0\u001b[39m:\n",
      "\u001b[0;31mKeyboardInterrupt\u001b[0m: "
     ]
    }
   ],
   "source": [
    "os.makedirs(os.path.join(path,'testing'),exist_ok=True)\n",
    "for epoch in range(50):\n",
    "    total_loss = 0\n",
    "    for step,(jets,labels) in enumerate(tqdm(dataloader,total = len(dataloader))):\n",
    "        \n",
    "        optimizer.zero_grad()\n",
    "        loss,reconstructed = diffusion.loss(jets.to(device))\n",
    "        loss.backward()\n",
    "        total_loss+=loss.item()\n",
    "        optimizer.step()\n",
    "\n",
    "        if epoch % 5 == 0 and step % 4 ==0:\n",
    "            plt.subplot(2,2,1)\n",
    "            plt.imshow(reconstructed[0].permute(2,1,0).detach().cpu().numpy())\n",
    "            plt.axis('off')\n",
    "            plt.title('reconstructed_img')\n",
    "\n",
    "            plt.subplot(2,2,2)\n",
    "            plt.imshow(reconstructed[0,0,:,:].detach().cpu().numpy())\n",
    "            plt.axis('off')\n",
    "            plt.title('ECAL')\n",
    "\n",
    "            plt.subplot(2,2,3)\n",
    "            plt.imshow(reconstructed[0,1,:,:].detach().cpu().numpy())\n",
    "            plt.axis('off')\n",
    "            plt.title('HCAL')\n",
    "\n",
    "            plt.subplot(2,2,4)\n",
    "            plt.imshow(reconstructed[0,2,:,:].detach().cpu().numpy())\n",
    "            plt.axis('off')\n",
    "            plt.title('Tracks')\n",
    "            plt.savefig(os.path.join(path,f'testing/ddpm_reconstructed_img_epoch{epoch}.jpeg'))\n",
    "            plt.close()\n",
    "            # print(batch[0][0].shape)\n",
    "            plt.subplot(2,2,1)\n",
    "            plt.imshow(jets[0].permute(2,1,0).detach().cpu().numpy())\n",
    "            plt.axis('off')\n",
    "            plt.title('img')\n",
    "\n",
    "            plt.subplot(2,2,2)\n",
    "            plt.imshow(jets[0,0,:,:].detach().cpu().numpy())\n",
    "            plt.axis('off')\n",
    "            plt.title('ECAL')\n",
    "\n",
    "            plt.subplot(2,2,3)\n",
    "            plt.imshow(jets[0,1,:,:].detach().cpu().numpy())\n",
    "            plt.axis('off')\n",
    "            plt.title('HCAL')\n",
    "\n",
    "            plt.subplot(2,2,4)\n",
    "            plt.imshow(jets[0,2,:,:].detach().cpu().numpy())\n",
    "            plt.axis('off')\n",
    "            plt.title('Tracks')\n",
    "\n",
    "            plt.savefig(os.path.join(path,f'testing/ddpm_img_epoch{epoch}.jpeg'))\n",
    "            plt.close()\n",
    "\n",
    "    torch.cuda.empty_cache()\n",
    "    print(f'epoch: {epoch+1}, loss: {total_loss}')"
   ]
  },
  {
   "cell_type": "code",
   "execution_count": null,
   "metadata": {},
   "outputs": [],
   "source": []
  }
 ],
 "metadata": {
  "kernelspec": {
   "display_name": "torch",
   "language": "python",
   "name": "python3"
  },
  "language_info": {
   "codemirror_mode": {
    "name": "ipython",
    "version": 3
   },
   "file_extension": ".py",
   "mimetype": "text/x-python",
   "name": "python",
   "nbconvert_exporter": "python",
   "pygments_lexer": "ipython3",
   "version": "3.9.0"
  },
  "orig_nbformat": 4
 },
 "nbformat": 4,
 "nbformat_minor": 2
}
